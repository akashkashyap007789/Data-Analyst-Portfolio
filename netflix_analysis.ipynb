# Netflix Data Analysis (Python)

```python
import pandas as pd
import matplotlib.pyplot as plt

# Load dataset
netflix = pd.read_csv('netflix_data.csv')

# Show content type counts
print(netflix['type'].value_counts())

# Plot release year trend
netflix['release_year'].value_counts().sort_index().plot(kind='line')
plt.title('Content Releases Over Time')
plt.show()
```